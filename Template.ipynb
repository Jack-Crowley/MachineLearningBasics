{
 "cells": [
  {
   "cell_type": "markdown",
   "metadata": {
    "id": "23NmpZoRvjmQ"
   },
   "source": [
    "# Machine Learning Basics Template\n",
    "\n",
    "## If you have any question, please feel free to raise your hand, and one of us will come over to you!\n",
    "\n",
    "---"
   ]
  },
  {
   "cell_type": "code",
   "execution_count": 12,
   "metadata": {
    "id": "gTYdmSHCvmd6"
   },
   "outputs": [],
   "source": [
    "#IMPORTS\n",
    "import matplotlib.pyplot as plt\n",
    "import numpy as np\n",
    "from sklearn.neighbors import KNeighborsClassifier\n",
    "from matplotlib.colors import ListedColormap\n",
    "from sklearn.datasets import load_iris\n",
    "from sklearn.model_selection import train_test_split\n",
    "import pandas as pd\n",
    "import seaborn as sns\n",
    "\n",
    "#SETTING UP DATABASE\n",
    "iris = load_iris()"
   ]
  },
  {
   "attachments": {},
   "cell_type": "markdown",
   "metadata": {
    "id": "ejCu55CugpDb"
   },
   "source": [
    "---\n",
    "\n",
    "# Try playing around with the database!\n",
    "\n",
    "#### Use commands such as iris.[data, target, target_names, feature_names, and shape]!\n",
    "\n",
    "---"
   ]
  },
  {
   "cell_type": "code",
   "execution_count": null,
   "metadata": {
    "id": "7UXtZ9uOftkO"
   },
   "outputs": [],
   "source": []
  },
  {
   "cell_type": "markdown",
   "metadata": {
    "id": "I-VKUDgVhEfA"
   },
   "source": [
    "# Time for the actual KNN!"
   ]
  },
  {
   "cell_type": "code",
   "execution_count": null,
   "metadata": {
    "id": "7SIutUnlhGd4"
   },
   "outputs": [],
   "source": []
  },
  {
   "cell_type": "code",
   "execution_count": null,
   "metadata": {
    "id": "a9AZwLsEjSpq"
   },
   "outputs": [],
   "source": []
  },
  {
   "cell_type": "markdown",
   "metadata": {
    "id": "0RCmNGUGzLnk"
   },
   "source": [
    "# Testing!"
   ]
  },
  {
   "cell_type": "code",
   "execution_count": null,
   "metadata": {
    "id": "6rnCaBPTzNRX"
   },
   "outputs": [],
   "source": [
    "X_train, X_test, y_train, y_test = train_test_split(X, y, test_size = 0.30, random_state=42, stratify = y)"
   ]
  },
  {
   "cell_type": "markdown",
   "metadata": {
    "id": "JDOuNdmPkoN3"
   },
   "source": [
    "# GRAPHING!!"
   ]
  },
  {
   "cell_type": "code",
   "execution_count": null,
   "metadata": {
    "id": "Cp60YlI0yrKb"
   },
   "outputs": [],
   "source": [
    "#Visualizer taken from tutorialspoint\n",
    "\n",
    "def graph(n_neighbors):\n",
    "  iris = load_iris()\n",
    "  X = iris.data[:, :2]\n",
    "  y = iris.target\n",
    "  h = .02\n",
    "\n",
    "  cmap_light = ListedColormap(['orange', 'cyan', 'cornflowerblue'])\n",
    "  cmap_bold = ['darkorange', 'c', 'darkblue']\n",
    "\n",
    "\n",
    "  clf = KNeighborsClassifier(n_neighbors, weights='uniform')\n",
    "  clf.fit(X, y)\n",
    "\n",
    "  x_min, x_max = X[:, 0].min() - 1, X[:, 0].max() + 1\n",
    "  y_min, y_max = X[:, 1].min() - 1, X[:, 1].max() + 1\n",
    "  xx, yy = np.meshgrid(np.arange(x_min, x_max, h),\n",
    "  np.arange(y_min, y_max, h))\n",
    "  Z = clf.predict(np.c_[xx.ravel(), yy.ravel()])\n",
    "  Z = Z.reshape(xx.shape)\n",
    "\n",
    "  plt.figure()\n",
    "\n",
    "  plt.contourf(xx, yy, Z, cmap=cmap_light)\n",
    "\n",
    "  sns.scatterplot(x=X[:, 0], y=X[:, 1], hue=iris.target_names[y],\n",
    "  palette=cmap_bold, alpha=1.0, edgecolor=\"black\")\n",
    "\n",
    "  plt.xlim(xx.min(), xx.max())\n",
    "  plt.ylim(yy.min(), yy.max())\n",
    "\n",
    "  plt.title(\"3-Class classification (k = %i, 'uniform' = '%s')\"\n",
    "  % (n_neighbors, 'uniform'))\n",
    "\n",
    "  plt.xlabel(iris.feature_names[0])\n",
    "  plt.ylabel(iris.feature_names[1])\n",
    "\n",
    "  plt.show()"
   ]
  },
  {
   "cell_type": "code",
   "execution_count": null,
   "metadata": {
    "id": "5LnZFsZSkqeo"
   },
   "outputs": [],
   "source": [
    "n_neighbors = 5\n",
    "\n",
    "graph(n_neighbors)"
   ]
  },
  {
   "cell_type": "code",
   "execution_count": null,
   "metadata": {},
   "outputs": [],
   "source": []
  },
  {
   "cell_type": "code",
   "execution_count": null,
   "metadata": {},
   "outputs": [],
   "source": []
  }
 ],
 "metadata": {
  "colab": {
   "provenance": []
  },
  "kernelspec": {
   "display_name": "Python 3 (ipykernel)",
   "language": "python",
   "name": "python3"
  },
  "language_info": {
   "codemirror_mode": {
    "name": "ipython",
    "version": 3
   },
   "file_extension": ".py",
   "mimetype": "text/x-python",
   "name": "python",
   "nbconvert_exporter": "python",
   "pygments_lexer": "ipython3",
   "version": "3.10.1"
  }
 },
 "nbformat": 4,
 "nbformat_minor": 1
}
